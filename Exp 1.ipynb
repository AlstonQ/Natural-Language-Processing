{
  "nbformat": 4,
  "nbformat_minor": 0,
  "metadata": {
    "colab": {
      "name": "NLP 1.ipynb",
      "provenance": []
    },
    "kernelspec": {
      "name": "python3",
      "display_name": "Python 3"
    }
  },
  "cells": [
    {
      "cell_type": "markdown",
      "metadata": {
        "id": "fO0Mc0eiBUs4",
        "colab_type": "text"
      },
      "source": [
        "Question 1"
      ]
    },
    {
      "cell_type": "code",
      "metadata": {
        "id": "Ye-I_PM3z0Dz",
        "colab_type": "code",
        "outputId": "792c1a9e-c8cf-47d7-d1c0-531f173f076a",
        "colab": {
          "base_uri": "https://localhost:8080/",
          "height": 51
        }
      },
      "source": [
        "a=input(\"Enter string  \")\n",
        "c=0\n",
        "for i in range(len(a)):\n",
        "  c=c+1\n",
        "print(\"Length of string \" + a + \" is\" , + c)\n"
      ],
      "execution_count": 1,
      "outputs": [
        {
          "output_type": "stream",
          "text": [
            "Enter string  Alston\n",
            "Length of string Alston is 6\n"
          ],
          "name": "stdout"
        }
      ]
    },
    {
      "cell_type": "markdown",
      "metadata": {
        "id": "gKM7kuBWBgLr",
        "colab_type": "text"
      },
      "source": [
        "Question 2"
      ]
    },
    {
      "cell_type": "code",
      "metadata": {
        "id": "UwJOh07D0uQO",
        "colab_type": "code",
        "outputId": "5e1340fa-3cdc-4203-e7c2-d72eba5a0d29",
        "colab": {
          "base_uri": "https://localhost:8080/",
          "height": 51
        }
      },
      "source": [
        "a = \"aabbccc\"\n",
        "all_freq = {} \n",
        "  \n",
        "for i in a: \n",
        "    if i in all_freq: \n",
        "        all_freq[i] += 1\n",
        "    else: \n",
        "        all_freq[i] = 1\n",
        "\n",
        "print (\"Count of all characters is :\\n \"\n",
        "                                        +  str(all_freq)) "
      ],
      "execution_count": 2,
      "outputs": [
        {
          "output_type": "stream",
          "text": [
            "Count of all characters is :\n",
            " {'a': 2, 'b': 2, 'c': 3}\n"
          ],
          "name": "stdout"
        }
      ]
    },
    {
      "cell_type": "markdown",
      "metadata": {
        "id": "DcxdgMM9Bj9W",
        "colab_type": "text"
      },
      "source": [
        "Question 3"
      ]
    },
    {
      "cell_type": "code",
      "metadata": {
        "id": "tptStehz3RZt",
        "colab_type": "code",
        "outputId": "9ffd3a6d-1052-400e-aa88-df2d80b4eacf",
        "colab": {
          "base_uri": "https://localhost:8080/",
          "height": 51
        }
      },
      "source": [
        "a=input(\"Enter string  \")\n",
        "if (len(a)<=2) :\n",
        "  print(\"Empty string\")\n",
        "else:\n",
        "  b=a[0:2] + a[-2:]\n",
        "  print(\"New string formed is \", b)"
      ],
      "execution_count": 3,
      "outputs": [
        {
          "output_type": "stream",
          "text": [
            "Enter string  Alston\n",
            "New string formed is  Alon\n"
          ],
          "name": "stdout"
        }
      ]
    },
    {
      "cell_type": "markdown",
      "metadata": {
        "id": "FqEP3rHmBrzg",
        "colab_type": "text"
      },
      "source": [
        "Question 4"
      ]
    },
    {
      "cell_type": "code",
      "metadata": {
        "id": "58gcby-4x5Q8",
        "colab_type": "code",
        "outputId": "ce22605e-6794-4721-9807-1d2158225dcd",
        "colab": {
          "base_uri": "https://localhost:8080/",
          "height": 68
        }
      },
      "source": [
        "a=input(\"Enter 1st string \")\n",
        "b=input(\"Enter 2nd string \")\n",
        "new_a = b[:2] + a[2:]\n",
        "new_b = a[:2] + b[2:]\n",
        "e= new_a + \" \" + new_b\n",
        "print(e)"
      ],
      "execution_count": 4,
      "outputs": [
        {
          "output_type": "stream",
          "text": [
            "Enter 1st string Alston\n",
            "Enter 2nd string Quadros\n",
            "Quston Aladros\n"
          ],
          "name": "stdout"
        }
      ]
    },
    {
      "cell_type": "markdown",
      "metadata": {
        "id": "AkZ1Vkj2Bzkv",
        "colab_type": "text"
      },
      "source": [
        "Question 5"
      ]
    },
    {
      "cell_type": "code",
      "metadata": {
        "id": "XKXI2VUz0eIU",
        "colab_type": "code",
        "outputId": "35c14e0c-e41f-4f6c-9b6c-040cf9d327f6",
        "colab": {
          "base_uri": "https://localhost:8080/",
          "height": 51
        }
      },
      "source": [
        "a=input(\"Enter a string \")\n",
        "b=a[-3:]\n",
        "if(len(a)>=3):\n",
        "  if(b==\"ing\"):\n",
        "    a= a + \"ly\"\n",
        "    print(a)\n",
        "  else:\n",
        "    a= a + \"ing\"\n",
        "    print(a)\n",
        "else:\n",
        "  print(a)"
      ],
      "execution_count": 5,
      "outputs": [
        {
          "output_type": "stream",
          "text": [
            "Enter a string easing\n",
            "easingly\n"
          ],
          "name": "stdout"
        }
      ]
    },
    {
      "cell_type": "markdown",
      "metadata": {
        "id": "q7bIFId2B_T5",
        "colab_type": "text"
      },
      "source": [
        "Question 6"
      ]
    },
    {
      "cell_type": "code",
      "metadata": {
        "id": "gFn_6W0_2yGR",
        "colab_type": "code",
        "outputId": "631ce47a-2cf7-49f2-a1a2-d29f1d33944a",
        "colab": {
          "base_uri": "https://localhost:8080/",
          "height": 119
        }
      },
      "source": [
        "l = []  \n",
        "n = int(input(\"Enter number of elements : \"))  \n",
        "for i in range(0, n): \n",
        "    e = (input()) \n",
        "    l.append(e)  \n",
        "max_len = -1\n",
        "for e in l: \n",
        "    if len(e) > max_len: \n",
        "        max_len = len(e) \n",
        "        res = e \n",
        "print(\"Longest string is : \" + res)\n",
        "print(\"Length of longest string is\", len(res))"
      ],
      "execution_count": 7,
      "outputs": [
        {
          "output_type": "stream",
          "text": [
            "Enter number of elements : 3\n",
            "I\n",
            "am\n",
            "Alston\n",
            "Longest string is : Alston\n",
            "Length of longest string is 6\n"
          ],
          "name": "stdout"
        }
      ]
    },
    {
      "cell_type": "markdown",
      "metadata": {
        "id": "ckOULCKGCIxZ",
        "colab_type": "text"
      },
      "source": [
        "Question 7"
      ]
    },
    {
      "cell_type": "code",
      "metadata": {
        "id": "OTWgMJDV580v",
        "colab_type": "code",
        "outputId": "f916513b-390b-4366-f7a1-ce962998a753",
        "colab": {
          "base_uri": "https://localhost:8080/",
          "height": 51
        }
      },
      "source": [
        "str1=input(\"Enter your string \")\n",
        "char = str1[0]\n",
        "str1 = str1.replace(char, '$')\n",
        "str1 = char + str1[1:]\n",
        "print(\"New string is \", str1)"
      ],
      "execution_count": 10,
      "outputs": [
        {
          "output_type": "stream",
          "text": [
            "Enter your string Alston\n",
            "New string is  Alston\n"
          ],
          "name": "stdout"
        }
      ]
    },
    {
      "cell_type": "markdown",
      "metadata": {
        "id": "BKRXSn5qCZrj",
        "colab_type": "text"
      },
      "source": [
        "Question 8"
      ]
    },
    {
      "cell_type": "code",
      "metadata": {
        "id": "DHpBqB0tFRXZ",
        "colab_type": "code",
        "outputId": "4225747a-1f15-4c4a-935b-66d95dc89c7e",
        "colab": {
          "base_uri": "https://localhost:8080/",
          "height": 51
        }
      },
      "source": [
        "def np(str1):\n",
        "  stnot = str1.find('not')\n",
        "  stpoor = str1.find('poor')\n",
        "  if stpoor > stnot and stnot>0 and stpoor>0:\n",
        "    str1 = str1.replace(str1[stnot:(stpoor+4)], 'good')\n",
        "    return str1\n",
        "  else:\n",
        "    return str1\n",
        "s=input(\"Enter your string \")\n",
        "print(np(s))\n"
      ],
      "execution_count": 11,
      "outputs": [
        {
          "output_type": "stream",
          "text": [
            "Enter your string Alston is not poor\n",
            "Alston is good\n"
          ],
          "name": "stdout"
        }
      ]
    },
    {
      "cell_type": "markdown",
      "metadata": {
        "id": "wthUZD6SCfu-",
        "colab_type": "text"
      },
      "source": [
        "Question 9"
      ]
    },
    {
      "cell_type": "code",
      "metadata": {
        "id": "j5Cd5Ynjzlax",
        "colab_type": "code",
        "outputId": "799a0f90-dcbe-4017-f8a8-3852a5b02be2",
        "colab": {
          "base_uri": "https://localhost:8080/",
          "height": 68
        }
      },
      "source": [
        "s=input(\"Enter the string:\")\n",
        "n=int(input(\"Enter the index of the character to be removed:\"))\n",
        "first = s[:n]   \n",
        "last = s[n+1:]\n",
        "print(\"String formed after removing character is \", first+last)  \n",
        "      "
      ],
      "execution_count": 12,
      "outputs": [
        {
          "output_type": "stream",
          "text": [
            "Enter the string:Alston \n",
            "Enter the index of the character to be removed:4\n",
            "String formed after removing character is  Alstn \n"
          ],
          "name": "stdout"
        }
      ]
    },
    {
      "cell_type": "markdown",
      "metadata": {
        "id": "jCxWM51ACoce",
        "colab_type": "text"
      },
      "source": [
        "Question 10"
      ]
    },
    {
      "cell_type": "code",
      "metadata": {
        "id": "kZ6TBdNG163n",
        "colab_type": "code",
        "outputId": "13a5144c-c890-4c24-f559-5041ee90770d",
        "colab": {
          "base_uri": "https://localhost:8080/",
          "height": 51
        }
      },
      "source": [
        "s=input(\"Enter the string:\")\n",
        "f=s[:1]\n",
        "l=s[-1:]\n",
        "newstr= l + s[1:-1] + f\n",
        "print(\"New string formed is \", newstr)"
      ],
      "execution_count": 13,
      "outputs": [
        {
          "output_type": "stream",
          "text": [
            "Enter the string:Alston\n",
            "New string formed is  nlstoA\n"
          ],
          "name": "stdout"
        }
      ]
    },
    {
      "cell_type": "markdown",
      "metadata": {
        "id": "F5gsTXRGCuVQ",
        "colab_type": "text"
      },
      "source": [
        "Question 11"
      ]
    },
    {
      "cell_type": "code",
      "metadata": {
        "id": "OmfVucx43aHw",
        "colab_type": "code",
        "outputId": "7dbca516-f1ce-4146-fad4-bfb8fa0b904a",
        "colab": {
          "base_uri": "https://localhost:8080/",
          "height": 51
        }
      },
      "source": [
        "s=input(\"Enter a string \")\n",
        "newstr=s[0::2]\n",
        "print(\"New string formed after removing odd characters is\", newstr)"
      ],
      "execution_count": 14,
      "outputs": [
        {
          "output_type": "stream",
          "text": [
            "Enter a string Alston\n",
            "New string formed after removing odd characters is Aso\n"
          ],
          "name": "stdout"
        }
      ]
    },
    {
      "cell_type": "markdown",
      "metadata": {
        "id": "7X3HQd6OCxIU",
        "colab_type": "text"
      },
      "source": [
        "Question 12"
      ]
    },
    {
      "cell_type": "code",
      "metadata": {
        "id": "Xe9v3vn04kdU",
        "colab_type": "code",
        "outputId": "025f3368-62ff-4c43-8c04-88d9a6775e28",
        "colab": {
          "base_uri": "https://localhost:8080/",
          "height": 51
        }
      },
      "source": [
        "def word_count(str):\n",
        "    counts = dict()\n",
        "    words = str.split()\n",
        "    for word in words:\n",
        "        if word in counts:\n",
        "            counts[word] += 1\n",
        "        else:\n",
        "            counts[word] = 1\n",
        "    return counts\n",
        "s=input(\"Enter your sentence \")\n",
        "print( word_count(s))"
      ],
      "execution_count": 15,
      "outputs": [
        {
          "output_type": "stream",
          "text": [
            "Enter your sentence I am the one the gun I am nothing but the best\n",
            "{'I': 2, 'am': 2, 'the': 3, 'one': 1, 'gun': 1, 'nothing': 1, 'but': 1, 'best': 1}\n"
          ],
          "name": "stdout"
        }
      ]
    },
    {
      "cell_type": "markdown",
      "metadata": {
        "id": "rZXvONcxDDRE",
        "colab_type": "text"
      },
      "source": [
        "Question 13"
      ]
    },
    {
      "cell_type": "code",
      "metadata": {
        "id": "yusV_puU58d3",
        "colab_type": "code",
        "outputId": "a76eeead-74e8-4d75-8a8e-b9c17327edfc",
        "colab": {
          "base_uri": "https://localhost:8080/",
          "height": 68
        }
      },
      "source": [
        "s=input(\"Enter a string \")\n",
        "print(\"String in uppercase : \",s.upper())\n",
        "print(\"String in lowercase : \",s.lower())"
      ],
      "execution_count": 16,
      "outputs": [
        {
          "output_type": "stream",
          "text": [
            "Enter a string Happy Birthday\n",
            "String in uppercase :  HAPPY BIRTHDAY\n",
            "String in lowercase :  happy birthday\n"
          ],
          "name": "stdout"
        }
      ]
    },
    {
      "cell_type": "markdown",
      "metadata": {
        "id": "kDzf-OtSDFgt",
        "colab_type": "text"
      },
      "source": [
        "Question 14"
      ]
    },
    {
      "cell_type": "code",
      "metadata": {
        "id": "P8Kaux877EiI",
        "colab_type": "code",
        "outputId": "3066f48a-5b56-452f-ecf4-fe1b5ff41f4a",
        "colab": {
          "base_uri": "https://localhost:8080/",
          "height": 51
        }
      },
      "source": [
        "items = input(\"Input comma separated sequence of words \")\n",
        "words = [word for word in items.split(\",\")]\n",
        "print(\",\".join(sorted(list(set(words)))))"
      ],
      "execution_count": 17,
      "outputs": [
        {
          "output_type": "stream",
          "text": [
            "Input comma separated sequence of words one two three four\n",
            "one two three four\n"
          ],
          "name": "stdout"
        }
      ]
    },
    {
      "cell_type": "markdown",
      "metadata": {
        "id": "ghdEzkw0DPZp",
        "colab_type": "text"
      },
      "source": [
        "Question 15"
      ]
    },
    {
      "cell_type": "code",
      "metadata": {
        "id": "P392d0fT8T2O",
        "colab_type": "code",
        "outputId": "02909660-09a4-48ac-d25f-2fa72f64fda0",
        "colab": {
          "base_uri": "https://localhost:8080/",
          "height": 68
        }
      },
      "source": [
        "def add_tags(tag, word):\n",
        "\treturn \"<%s>%s</%s>\" % (tag, word, tag)\n",
        "a=input(\"Enter HTML tag \")\n",
        "b=input(\"Enter the sentence \")\n",
        "print(add_tags(a,b))\n"
      ],
      "execution_count": 18,
      "outputs": [
        {
          "output_type": "stream",
          "text": [
            "Enter HTML tag H1\n",
            "Enter the sentence Hello\n",
            "<H1>Hello</H1>\n"
          ],
          "name": "stdout"
        }
      ]
    },
    {
      "cell_type": "code",
      "metadata": {
        "id": "oupFKWpH9Plk",
        "colab_type": "code",
        "colab": {}
      },
      "source": [
        ""
      ],
      "execution_count": 0,
      "outputs": []
    }
  ]
}