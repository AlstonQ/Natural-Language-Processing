{
 "cells": [
  {
   "cell_type": "code",
   "execution_count": 2,
   "metadata": {},
   "outputs": [
    {
     "name": "stdout",
     "output_type": "stream",
     "text": [
      "Enter the Sentence: The dog chased the yellow cat\n",
      "['The', 'dog', 'chased', 'the', 'yellow', 'cat']\n",
      "[('The', 'DT'), ('dog', 'NN'), ('chased', 'VBD'), ('the', 'DT'), ('yellow', 'JJ'), ('cat', 'NN')]\n",
      "(S (NP The/DT dog/NN) chased/VBD (NP the/DT yellow/JJ cat/NN))\n"
     ]
    }
   ],
   "source": [
    "import nltk\n",
    "import matplotlib\n",
    "matplotlib.use('Agg')\n",
    "text = input(\"Enter the Sentence: \")\n",
    "tokens = nltk.word_tokenize(text)\n",
    "print(tokens)\n",
    "tag = nltk.pos_tag(tokens)\n",
    "print(tag)\n",
    "grammar = \"NP: {<DT>?<JJ>*<NN>}\"\n",
    "cp  =nltk.RegexpParser(grammar)\n",
    "result = cp.parse(tag)\n",
    "print(result)\n",
    "result.draw()"
   ]
  },
  {
   "cell_type": "code",
   "execution_count": null,
   "metadata": {},
   "outputs": [],
   "source": []
  }
 ],
 "metadata": {
  "kernelspec": {
   "display_name": "Python 3",
   "language": "python",
   "name": "python3"
  },
  "language_info": {
   "codemirror_mode": {
    "name": "ipython",
    "version": 3
   },
   "file_extension": ".py",
   "mimetype": "text/x-python",
   "name": "python",
   "nbconvert_exporter": "python",
   "pygments_lexer": "ipython3",
   "version": "3.6.5"
  }
 },
 "nbformat": 4,
 "nbformat_minor": 2
}
