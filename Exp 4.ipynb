{
 "cells": [
  {
   "cell_type": "markdown",
   "metadata": {},
   "source": [
    "Please Run on Jupyter Notebook not Colab due to complications of file functions on Colab"
   ]
  },
  {
   "cell_type": "code",
   "execution_count": 2,
   "metadata": {},
   "outputs": [],
   "source": [
    "import re\n",
    "from pprint import pprint"
   ]
  },
  {
   "cell_type": "code",
   "execution_count": 3,
   "metadata": {},
   "outputs": [],
   "source": [
    "def _conditional_prob(s, n):\n",
    "    return float(s.count(f'{n[0]} {n[1]}') / s.count(n[0]))\n",
    "\n",
    "def tokenize(corpus):\n",
    "    return [token for token in corpus.split(' ') if token != '']"
   ]
  },
  {
   "cell_type": "code",
   "execution_count": 4,
   "metadata": {},
   "outputs": [],
   "source": [
    "def get_conditional_prob(s, ngrams):\n",
    "    conditional_prob = {}\n",
    "    for ngram in ngrams:\n",
    "        conditional_prob[ngram] = _conditional_prob(s, ngram)\n",
    "    return conditional_prob"
   ]
  },
  {
   "cell_type": "code",
   "execution_count": 5,
   "metadata": {},
   "outputs": [],
   "source": [
    "def get_n_grams(s, tokens, n=2):\n",
    "    s = s.lower()\n",
    "    s = re.sub(r'[^a-zA-Z0-9\\s]', ' ', s)\n",
    "    ngrams = zip(*[tokens[i:] for i in range(n)])\n",
    "    # return [\" \".join(ngram) for ngram in ngrams]\n",
    "    return list(set([ngram for ngram in ngrams]))\n"
   ]
  },
  {
   "cell_type": "code",
   "execution_count": 6,
   "metadata": {},
   "outputs": [],
   "source": [
    "def predict_next_word(s, conditional_prob, tokens, word):\n",
    "    predictions = {}\n",
    "    for token in tokens:\n",
    "        n = tuple([word, token])\n",
    "        predictions[n] = _conditional_prob(s, n)\n",
    "    return predictions"
   ]
  },
  {
   "cell_type": "code",
   "execution_count": 7,
   "metadata": {},
   "outputs": [
    {
     "name": "stdout",
     "output_type": "stream",
     "text": [
      "Conditional Probabilities: \n",
      "{('and', 'shyam'): 1.0,\n",
      " ('are', 'good'): 1.0,\n",
      " ('enough', 'shayam'): 1.0,\n",
      " ('good', 'enough'): 0.5,\n",
      " ('good', 'ram'): 0.5,\n",
      " ('is', 'good'): 0.5,\n",
      " ('is', 'the'): 0.5,\n",
      " ('ram', 'and'): 0.5,\n",
      " ('ram', 'is'): 0.5,\n",
      " ('shayam', 'is'): 1.0,\n",
      " ('shyam', 'are'): 1.0,\n",
      " ('the', 'best'): 1.0}\n",
      "Enter a word: shyam\n",
      "{('shyam', 'and'): 0.0,\n",
      " ('shyam', 'are'): 1.0,\n",
      " ('shyam', 'best'): 0.0,\n",
      " ('shyam', 'enough'): 0.0,\n",
      " ('shyam', 'good'): 0.0,\n",
      " ('shyam', 'is'): 0.0,\n",
      " ('shyam', 'ram'): 0.0,\n",
      " ('shyam', 'shayam'): 0.0,\n",
      " ('shyam', 'shyam'): 0.0,\n",
      " ('shyam', 'the'): 0.0}\n"
     ]
    }
   ],
   "source": [
    "with open(r'corpus.txt', 'r') as f:\n",
    "    all_lines = f.readlines()\n",
    "corpus = ''.join([x.replace('\\n', ' ') for x in all_lines])\n",
    "n_grams = []\n",
    "tokens = []\n",
    "for line in all_lines:\n",
    "    line = line.replace('\\n', '')\n",
    "    tkns = tokenize(line)\n",
    "    for t in tkns:  \n",
    "        tokens.append(t)\n",
    "    n_gram = get_n_grams(line, tokens)\n",
    "    for n in n_gram:     \n",
    "        n_grams.append(n)\n",
    "conditional_prob = get_conditional_prob(corpus, n_grams)\n",
    "print('Conditional Probabilities: '); pprint(conditional_prob)\n",
    "word = input('Enter a word: ')\n",
    "predictions = predict_next_word(corpus, conditional_prob, tokens, word)\n",
    "pprint(predictions)\n"
   ]
  },
  {
   "cell_type": "code",
   "execution_count": null,
   "metadata": {},
   "outputs": [],
   "source": []
  }
 ],
 "metadata": {
  "kernelspec": {
   "display_name": "Python 3",
   "language": "python",
   "name": "python3"
  },
  "language_info": {
   "codemirror_mode": {
    "name": "ipython",
    "version": 3
   },
   "file_extension": ".py",
   "mimetype": "text/x-python",
   "name": "python",
   "nbconvert_exporter": "python",
   "pygments_lexer": "ipython3",
   "version": "3.6.5"
  }
 },
 "nbformat": 4,
 "nbformat_minor": 2
}
