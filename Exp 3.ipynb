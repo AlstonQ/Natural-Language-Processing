{
  "nbformat": 4,
  "nbformat_minor": 0,
  "metadata": {
    "colab": {
      "name": "NLP3",
      "provenance": [],
      "collapsed_sections": []
    },
    "kernelspec": {
      "name": "python3",
      "display_name": "Python 3"
    }
  },
  "cells": [
    {
      "cell_type": "markdown",
      "metadata": {
        "id": "2BPtTnqoIgcr",
        "colab_type": "text"
      },
      "source": [
        "Question 1"
      ]
    },
    {
      "cell_type": "code",
      "metadata": {
        "id": "lwSUvQzVIHEO",
        "colab_type": "code",
        "outputId": "694a2ead-b1fd-4442-99c4-88b1c27f5167",
        "colab": {
          "base_uri": "https://localhost:8080/",
          "height": 52
        }
      },
      "source": [
        "import re\n",
        "def text_match(text):\n",
        "        patterns = 'ab*?'\n",
        "        if re.search(patterns,  text):\n",
        "                return 'Found a match!'\n",
        "        else:\n",
        "                return('Not matched!')\n",
        "\n",
        "print(\"For String ac\",text_match(\"ac\"))\n",
        "print(\"For String bc\",text_match(\"bc\"))\n"
      ],
      "execution_count": 0,
      "outputs": [
        {
          "output_type": "stream",
          "text": [
            "For String ac Found a match!\n",
            "For String bc Not matched!\n"
          ],
          "name": "stdout"
        }
      ]
    },
    {
      "cell_type": "markdown",
      "metadata": {
        "id": "bK5DH87yJvbp",
        "colab_type": "text"
      },
      "source": [
        "Question 2"
      ]
    },
    {
      "cell_type": "code",
      "metadata": {
        "id": "ooxl3oTaITTS",
        "colab_type": "code",
        "outputId": "02c67399-0bab-42e8-89ef-ecf4abbf40c7",
        "colab": {
          "base_uri": "https://localhost:8080/",
          "height": 52
        }
      },
      "source": [
        "import re\n",
        "def text_match(text):\n",
        "        patterns = 'ab+?'\n",
        "        if re.search(patterns,  text):\n",
        "                return 'Found a match!'\n",
        "        else:\n",
        "                return('Not matched!')\n",
        "\n",
        "print(\"For String aaa\",text_match(\"aaa\"))\n",
        "print(\"For String abb\",text_match(\"abb\"))"
      ],
      "execution_count": 0,
      "outputs": [
        {
          "output_type": "stream",
          "text": [
            "For String aaa Not matched!\n",
            "For String abb Found a match!\n"
          ],
          "name": "stdout"
        }
      ]
    },
    {
      "cell_type": "markdown",
      "metadata": {
        "id": "jjDj6TiJJ60i",
        "colab_type": "text"
      },
      "source": [
        "Question 3"
      ]
    },
    {
      "cell_type": "code",
      "metadata": {
        "id": "1yj81AwcJ6RC",
        "colab_type": "code",
        "outputId": "293d6b09-540c-4237-a296-8e20766fd66d",
        "colab": {
          "base_uri": "https://localhost:8080/",
          "height": 52
        }
      },
      "source": [
        "import re\n",
        "def text_match(text):\n",
        "        patterns = '^[a-z]+_[a-z]+$'\n",
        "        if re.search(patterns,  text):\n",
        "                return 'Found a match!'\n",
        "        else:\n",
        "                return('Not matched!')\n",
        "print(\"For String aab_cbbbc\",text_match(\"aab_cbbbc\"))\n",
        "print(\"For String aab_Abbbc\",text_match(\"aab_Abbbc\"))"
      ],
      "execution_count": 0,
      "outputs": [
        {
          "output_type": "stream",
          "text": [
            "For String aab_cbbbc Found a match!\n",
            "For String aab_Abbbc Not matched!\n"
          ],
          "name": "stdout"
        }
      ]
    },
    {
      "cell_type": "markdown",
      "metadata": {
        "id": "ym0fRicqKZnz",
        "colab_type": "text"
      },
      "source": [
        "Question 4"
      ]
    },
    {
      "cell_type": "code",
      "metadata": {
        "id": "NYCo1ATvJrf3",
        "colab_type": "code",
        "outputId": "68ecee6d-cc83-4f93-eb0a-001eb9f3b653",
        "colab": {
          "base_uri": "https://localhost:8080/",
          "height": 52
        }
      },
      "source": [
        "import re\n",
        "def text_match(text):\n",
        "        patterns = '[A-Z][a-z]+'\n",
        "        if re.search(patterns,  text):\n",
        "                return 'Found a match!'\n",
        "        else:\n",
        "                return('Not matched!')\n",
        "print(\"For String Aaa\",text_match(\"Aaa\"))\n",
        "print(\"For String aAa\",text_match(\"aAa\"))"
      ],
      "execution_count": 0,
      "outputs": [
        {
          "output_type": "stream",
          "text": [
            "For String Aaa Found a match!\n",
            "For String aAa Found a match!\n"
          ],
          "name": "stdout"
        }
      ]
    },
    {
      "cell_type": "markdown",
      "metadata": {
        "id": "FnqZZB9mLjud",
        "colab_type": "text"
      },
      "source": [
        "Question 5"
      ]
    },
    {
      "cell_type": "code",
      "metadata": {
        "id": "P03czE19LC0D",
        "colab_type": "code",
        "outputId": "42ecf9dc-41fc-4d5d-af9e-d7927ac7ed68",
        "colab": {
          "base_uri": "https://localhost:8080/",
          "height": 52
        }
      },
      "source": [
        "import re\n",
        "def text_match(text):\n",
        "        patterns = 'z|Z'\n",
        "        if re.search(patterns,  text):\n",
        "                return 'Found a match!'\n",
        "        else:\n",
        "                return('Not matched!')\n",
        "print(\"For String Aaa\",text_match(\"zam\"))\n",
        "print(\"For String aAa\",text_match(\"Zam\"))"
      ],
      "execution_count": 0,
      "outputs": [
        {
          "output_type": "stream",
          "text": [
            "For String Aaa Found a match!\n",
            "For String aAa Found a match!\n"
          ],
          "name": "stdout"
        }
      ]
    },
    {
      "cell_type": "markdown",
      "metadata": {
        "id": "YBwW7yFuMf6L",
        "colab_type": "text"
      },
      "source": [
        "Question 6"
      ]
    },
    {
      "cell_type": "code",
      "metadata": {
        "id": "an7Jl1gzLsnG",
        "colab_type": "code",
        "outputId": "7a35563f-7258-43a2-fcfc-d8859fab67c4",
        "colab": {
          "base_uri": "https://localhost:8080/",
          "height": 52
        }
      },
      "source": [
        "import re\n",
        "def text_match(text):\n",
        "        patterns = '\\Bz|Z\\B'\n",
        "        if re.search(patterns,  text):\n",
        "                return 'Found a match!'\n",
        "        else:\n",
        "                return('Not matched!')\n",
        "print(\"For String aza\",text_match(\"aza\"))\n",
        "print(\"For String Aaa\",text_match(\"Aaa\"))"
      ],
      "execution_count": 0,
      "outputs": [
        {
          "output_type": "stream",
          "text": [
            "For String aza Found a match!\n",
            "For String Aaa Not matched!\n"
          ],
          "name": "stdout"
        }
      ]
    },
    {
      "cell_type": "markdown",
      "metadata": {
        "id": "9KXhBFBNMiMZ",
        "colab_type": "text"
      },
      "source": [
        "Question 7"
      ]
    },
    {
      "cell_type": "code",
      "metadata": {
        "id": "D6goeSDuMAyw",
        "colab_type": "code",
        "outputId": "091f1616-c74e-4b83-aadb-393c655c859f",
        "colab": {
          "base_uri": "https://localhost:8080/",
          "height": 52
        }
      },
      "source": [
        "import re\n",
        "def text_match(text):\n",
        "        patterns ='^[a-zA-Z0-9_]*$'\n",
        "        if re.search(patterns,  text):\n",
        "                return 'Found a match!'\n",
        "        else:\n",
        "                return('Not matched!')\n",
        "print(\"For String @#$%$%\",text_match(\"@#$%$%\"))\n",
        "print(\"For String Alston_Quadros123\",text_match(\"Alston_Quadros123\"))"
      ],
      "execution_count": 0,
      "outputs": [
        {
          "output_type": "stream",
          "text": [
            "For String @#$%$% Not matched!\n",
            "For String Alston_Quadros123 Found a match!\n"
          ],
          "name": "stdout"
        }
      ]
    },
    {
      "cell_type": "markdown",
      "metadata": {
        "id": "nouOmGECNAE5",
        "colab_type": "text"
      },
      "source": [
        "Question 8"
      ]
    },
    {
      "cell_type": "code",
      "metadata": {
        "id": "HrbZoac8M8Z4",
        "colab_type": "code",
        "outputId": "92b7dbed-3379-42a2-e169-a5c78f2fd4ea",
        "colab": {
          "base_uri": "https://localhost:8080/",
          "height": 52
        }
      },
      "source": [
        "import re\n",
        "def text_match(text):\n",
        "        patterns ='^[1-9][0-9][0-9]$'\n",
        "        if re.search(patterns,  text):\n",
        "                return 'Found a match!'\n",
        "        else:\n",
        "                return('Not matched!')\n",
        "print(\"For String 12344\",text_match(\"12344\"))\n",
        "print(\"For String 123\",text_match(\"123\"))\n",
        "  "
      ],
      "execution_count": 0,
      "outputs": [
        {
          "output_type": "stream",
          "text": [
            "For String 12344 Not matched!\n",
            "For String 123 Found a match!\n"
          ],
          "name": "stdout"
        }
      ]
    },
    {
      "cell_type": "markdown",
      "metadata": {
        "id": "M5Hn1KYqQd5K",
        "colab_type": "text"
      },
      "source": [
        "Question 9"
      ]
    },
    {
      "cell_type": "code",
      "metadata": {
        "id": "j0uyEkEKN9Do",
        "colab_type": "code",
        "outputId": "aa3f7f70-7e28-4858-b424-a02a81d0af5f",
        "colab": {
          "base_uri": "https://localhost:8080/",
          "height": 105
        }
      },
      "source": [
        "import re\n",
        "def text_match(text):\n",
        "        patterns = input(\"Enter Word to Search?\\n\")\n",
        "        if re.search(patterns,  text):\n",
        "                return 'Word Present'\n",
        "        else:\n",
        "                return 'Word Not Present!'\n",
        "quest=input(\"Enter the Sentence\\n\")\n",
        "text_match(quest)"
      ],
      "execution_count": 0,
      "outputs": [
        {
          "output_type": "stream",
          "text": [
            "Enter the Sentence\n",
            "The quick brown fox jumps over the lazy dog.\n",
            "Enter Word to Search?\n",
            "fox|dog|horse\n"
          ],
          "name": "stdout"
        },
        {
          "output_type": "execute_result",
          "data": {
            "text/plain": [
              "'Word Present'"
            ]
          },
          "metadata": {
            "tags": []
          },
          "execution_count": 37
        }
      ]
    },
    {
      "cell_type": "markdown",
      "metadata": {
        "id": "Uq40scrgQheh",
        "colab_type": "text"
      },
      "source": [
        "Question 10"
      ]
    },
    {
      "cell_type": "code",
      "metadata": {
        "id": "pGeRBGVvP1ko",
        "colab_type": "code",
        "outputId": "695a9a3c-6f5b-48ae-dabf-7699e14de59e",
        "colab": {
          "base_uri": "https://localhost:8080/",
          "height": 70
        }
      },
      "source": [
        "import re\n",
        "text = 'Trying to Study NLP_1'\n",
        "print(\"Initial Text:: \",text)\n",
        "text =text.replace (\" \", \"_\")\n",
        "print(\"Replacing Blanks with Underscores:: \",text)\n",
        "text =text.replace(\"_\", \" \")\n",
        "print(\"Replacing Underscores with Blanks:: \",text)"
      ],
      "execution_count": 0,
      "outputs": [
        {
          "output_type": "stream",
          "text": [
            "Initial Text::  Trying to Study NLP_1\n",
            "Replacing Blanks with Underscores::  Trying_to_Study_NLP_1\n",
            "Replacing Underscores with Blanks::  Trying to Study NLP 1\n"
          ],
          "name": "stdout"
        }
      ]
    },
    {
      "cell_type": "markdown",
      "metadata": {
        "id": "128ry9tPRnBa",
        "colab_type": "text"
      },
      "source": [
        "Question 11"
      ]
    },
    {
      "cell_type": "code",
      "metadata": {
        "id": "oR-eLVASQ821",
        "colab_type": "code",
        "outputId": "1267dfd0-5a9b-4df3-c6fb-e5ad866f00d8",
        "colab": {
          "base_uri": "https://localhost:8080/",
          "height": 87
        }
      },
      "source": [
        "import re\n",
        "# Sample string.\n",
        "text = \"10 dogs with 5 girls and she got 14 injections\"\n",
        "result = re.split(\"\\D+\", text)\n",
        "# Print results.\n",
        "for element in result:\n",
        "    print(element)"
      ],
      "execution_count": 0,
      "outputs": [
        {
          "output_type": "stream",
          "text": [
            "10\n",
            "5\n",
            "14\n",
            "\n"
          ],
          "name": "stdout"
        }
      ]
    },
    {
      "cell_type": "markdown",
      "metadata": {
        "id": "NxG1aTqyS6mJ",
        "colab_type": "text"
      },
      "source": [
        "Question 12\n"
      ]
    },
    {
      "cell_type": "code",
      "metadata": {
        "id": "YHgpx73rRzIB",
        "colab_type": "code",
        "outputId": "5d12a2e2-fd7f-45c9-9618-c6ca4ac83dd2",
        "colab": {
          "base_uri": "https://localhost:8080/",
          "height": 34
        }
      },
      "source": [
        "import re\n",
        "# Input.\n",
        "text = \"The following example creates an ArrayList with a capacity of 50 elements. Four elements are then added to the ArrayList and the ArrayList is trimmed accordingly.\"\n",
        "#find all the words starting with 'a' or 'e'\n",
        "list = re.findall(\"[ae]\\w+\", text)\n",
        "# Print result.\n",
        "print(list)"
      ],
      "execution_count": 0,
      "outputs": [
        {
          "output_type": "stream",
          "text": [
            "['example', 'eates', 'an', 'ayList', 'apacity', 'elements', 'elements', 'are', 'en', 'added', 'ayList', 'and', 'ayList', 'ed', 'accordingly']\n"
          ],
          "name": "stdout"
        }
      ]
    },
    {
      "cell_type": "markdown",
      "metadata": {
        "id": "tROqgYSXS9DB",
        "colab_type": "text"
      },
      "source": [
        "Question 13"
      ]
    },
    {
      "cell_type": "code",
      "metadata": {
        "id": "pVbgzx7mR_Lh",
        "colab_type": "code",
        "outputId": "f78f36df-fffc-4e4b-d896-a37f1fae9e06",
        "colab": {
          "base_uri": "https://localhost:8080/",
          "height": 34
        }
      },
      "source": [
        "import re\n",
        "street = 'Rajmata Jijabai Road'\n",
        "print(re.sub('Road$', 'Rd.', street))"
      ],
      "execution_count": 0,
      "outputs": [
        {
          "output_type": "stream",
          "text": [
            "Rajmata Jijabai Rd.\n"
          ],
          "name": "stdout"
        }
      ]
    },
    {
      "cell_type": "markdown",
      "metadata": {
        "id": "oxg_rUzjS_sh",
        "colab_type": "text"
      },
      "source": [
        "Question 14"
      ]
    },
    {
      "cell_type": "code",
      "metadata": {
        "id": "Jm5s2ltBSHzg",
        "colab_type": "code",
        "outputId": "6f5360e9-da8f-4398-d653-bc8116fd7c39",
        "colab": {
          "base_uri": "https://localhost:8080/",
          "height": 52
        }
      },
      "source": [
        "import re\n",
        "text1 = 'Natural    Language   Processing  '\n",
        "print(\"Original string:\",text1)\n",
        "print(\"Without extra spaces:\",re.sub(' +',' ',text1))"
      ],
      "execution_count": 0,
      "outputs": [
        {
          "output_type": "stream",
          "text": [
            "Original string: Natural    Language   Processing  \n",
            "Without extra spaces: Natural Language Processing \n"
          ],
          "name": "stdout"
        }
      ]
    },
    {
      "cell_type": "markdown",
      "metadata": {
        "id": "OiLArWx3TCOR",
        "colab_type": "text"
      },
      "source": [
        "Question 15"
      ]
    },
    {
      "cell_type": "code",
      "metadata": {
        "id": "AqyU5sp1SWFQ",
        "colab_type": "code",
        "outputId": "e30b80f6-7d9b-4ce7-a996-a2113d3fe3bc",
        "colab": {
          "base_uri": "https://localhost:8080/",
          "height": 34
        }
      },
      "source": [
        "import re\n",
        "text1 = '**//Lets Go India// - 20. '\n",
        "pattern = re.compile('[\\W_]+')\n",
        "print(pattern.sub('', text1))"
      ],
      "execution_count": 0,
      "outputs": [
        {
          "output_type": "stream",
          "text": [
            "LetsGoIndia20\n"
          ],
          "name": "stdout"
        }
      ]
    },
    {
      "cell_type": "markdown",
      "metadata": {
        "id": "ubAnCCZHTBtp",
        "colab_type": "text"
      },
      "source": [
        "3B Part"
      ]
    },
    {
      "cell_type": "code",
      "metadata": {
        "id": "UUgtrjeqSyZQ",
        "colab_type": "code",
        "outputId": "c8bf4e8a-d7dd-4046-fa38-ec8bd8e5d2bf",
        "colab": {
          "base_uri": "https://localhost:8080/",
          "height": 443
        }
      },
      "source": [
        "import re\n",
        "from nltk.corpus import wordnet as wn\n",
        "import nltk\n",
        "words = ['cat', 'cats', 'bus', 'buses', 'bush', 'bushes', 'walk', 'walks',\n",
        "        'walking', 'walked', 'mouse', 'mice', 'ear', 'ears', 'church', \n",
        "        'churches', 'baby', 'babies', 'bring', 'brings', 'bringing',  'brought', 'woman', 'women']\n",
        "def get(word):\n",
        "    return wn.synsets(w)[0].pos()\n",
        "def print_word(word, sg):\n",
        "    if sg:  print(f'{w} = {word} + {get(word).upper()} + SG')\n",
        "    else:  print(f'{w} = {word} + {get(word).upper()} + PL')\n",
        "for w in words:\n",
        "    sg = True\n",
        "    if w == 'women': sg = False\n",
        "    elif w == 'bus': word = w; sg = True\n",
        "    elif w == 'mice': word = w; sg = False\n",
        "    elif w.endswith('ies'): word = w[:-3] + 'y'; sg = False\n",
        "    elif w.endswith('es'): word = w[:-2]; sg = False\n",
        "    elif w.endswith('s'): word = w[:-1]; sg = False\n",
        "    else: word = w; sg = True\n",
        "    print_word(word, sg)\n"
      ],
      "execution_count": 0,
      "outputs": [
        {
          "output_type": "stream",
          "text": [
            "cat = cat + N + SG\n",
            "cats = cat + N + PL\n",
            "bus = bus + N + SG\n",
            "buses = bus + N + PL\n",
            "bush = bush + N + SG\n",
            "bushes = bush + N + PL\n",
            "walk = walk + N + SG\n",
            "walks = walk + N + PL\n",
            "walking = walking + N + SG\n",
            "walked = walked + V + SG\n",
            "mouse = mouse + N + SG\n",
            "mice = mice + N + PL\n",
            "ear = ear + N + SG\n",
            "ears = ear + N + PL\n",
            "church = church + N + SG\n",
            "churches = church + N + PL\n",
            "baby = baby + N + SG\n",
            "babies = baby + N + PL\n",
            "bring = bring + V + SG\n",
            "brings = bring + V + PL\n",
            "bringing = bringing + N + SG\n",
            "brought = brought + V + SG\n",
            "woman = woman + N + SG\n",
            "women = woman + N + PL\n"
          ],
          "name": "stdout"
        }
      ]
    },
    {
      "cell_type": "code",
      "metadata": {
        "id": "TpS8KTBFP71n",
        "colab_type": "code",
        "outputId": "a848400f-6bf9-4eb2-bc12-9d526d67ca49",
        "colab": {
          "base_uri": "https://localhost:8080/",
          "height": 70
        }
      },
      "source": [
        "import nltk\n",
        "nltk.download('wordnet')"
      ],
      "execution_count": 0,
      "outputs": [
        {
          "output_type": "stream",
          "text": [
            "[nltk_data] Downloading package wordnet to /root/nltk_data...\n",
            "[nltk_data]   Unzipping corpora/wordnet.zip.\n"
          ],
          "name": "stdout"
        },
        {
          "output_type": "execute_result",
          "data": {
            "text/plain": [
              "True"
            ]
          },
          "metadata": {
            "tags": []
          },
          "execution_count": 2
        }
      ]
    },
    {
      "cell_type": "code",
      "metadata": {
        "id": "13Ocsp3BQUl_",
        "colab_type": "code",
        "colab": {}
      },
      "source": [
        ""
      ],
      "execution_count": 0,
      "outputs": []
    }
  ]
}