{
  "nbformat": 4,
  "nbformat_minor": 0,
  "metadata": {
    "colab": {
      "name": "NLP 7",
      "provenance": []
    },
    "kernelspec": {
      "name": "python3",
      "display_name": "Python 3"
    }
  },
  "cells": [
    {
      "cell_type": "code",
      "metadata": {
        "id": "mrCh_-MyXKsa",
        "colab_type": "code",
        "colab": {
          "base_uri": "https://localhost:8080/",
          "height": 34
        },
        "outputId": "0d864c13-b207-4119-cad0-b1d44eb33a4f"
      },
      "source": [
        "!pip install pprint"
      ],
      "execution_count": 16,
      "outputs": [
        {
          "output_type": "stream",
          "text": [
            "Requirement already satisfied: pprint in /usr/local/lib/python3.6/dist-packages (0.1)\n"
          ],
          "name": "stdout"
        }
      ]
    },
    {
      "cell_type": "code",
      "metadata": {
        "id": "sO90RJnlU2vk",
        "colab_type": "code",
        "colab": {}
      },
      "source": [
        "import pprint\n",
        "import spacy\n",
        "from spacy import displacy\n",
        "from collections import Counter\n",
        "import en_core_web_sm\n",
        "nlp = en_core_web_sm.load()"
      ],
      "execution_count": 0,
      "outputs": []
    },
    {
      "cell_type": "code",
      "metadata": {
        "id": "r1MNtygEU51g",
        "colab_type": "code",
        "colab": {
          "base_uri": "https://localhost:8080/",
          "height": 595
        },
        "outputId": "b6d169c6-bc53-4fbb-8156-549e4e94d0fb"
      },
      "source": [
        "text='The economy is falling so low that president trump announced at the white house that 2.7 million loss in the stock market will impact the world and also the nature causing war and chaos'\n",
        "doc = nlp(text)\n",
        "pprint.pprint([(X, X.ent_iob_, X.ent_type_) for X in doc])"
      ],
      "execution_count": 21,
      "outputs": [
        {
          "output_type": "stream",
          "text": [
            "[(The, 'O', ''),\n",
            " (economy, 'O', ''),\n",
            " (is, 'O', ''),\n",
            " (falling, 'O', ''),\n",
            " (so, 'O', ''),\n",
            " (low, 'O', ''),\n",
            " (that, 'O', ''),\n",
            " (president, 'O', ''),\n",
            " (trump, 'O', ''),\n",
            " (announced, 'O', ''),\n",
            " (at, 'O', ''),\n",
            " (the, 'B', 'FAC'),\n",
            " (white, 'I', 'FAC'),\n",
            " (house, 'I', 'FAC'),\n",
            " (that, 'O', ''),\n",
            " (2.7, 'B', 'CARDINAL'),\n",
            " (million, 'I', 'CARDINAL'),\n",
            " (loss, 'O', ''),\n",
            " (in, 'O', ''),\n",
            " (the, 'O', ''),\n",
            " (stock, 'O', ''),\n",
            " (market, 'O', ''),\n",
            " (will, 'O', ''),\n",
            " (impact, 'O', ''),\n",
            " (the, 'O', ''),\n",
            " (world, 'O', ''),\n",
            " (and, 'O', ''),\n",
            " (also, 'O', ''),\n",
            " (the, 'O', ''),\n",
            " (nature, 'O', ''),\n",
            " (causing, 'O', ''),\n",
            " (war, 'O', ''),\n",
            " (and, 'O', ''),\n",
            " (chaos, 'O', '')]\n"
          ],
          "name": "stdout"
        }
      ]
    }
  ]
}